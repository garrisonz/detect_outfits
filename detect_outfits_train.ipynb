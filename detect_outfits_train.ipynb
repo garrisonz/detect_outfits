{
 "cells": [
  {
   "cell_type": "code",
   "execution_count": 1,
   "id": "2962077c",
   "metadata": {
    "ExecuteTime": {
     "end_time": "2022-06-07T16:09:30.135937Z",
     "start_time": "2022-06-07T16:09:28.512916Z"
    },
    "id": "2962077c"
   },
   "outputs": [],
   "source": [
    "# Firstly, we must import some libs\n",
    "import os\n",
    "import numpy as np\n",
    "import pandas as pd\n",
    "import numpy as np\n",
    "import pandas as pd\n",
    "import json\n",
    "import yaml\n",
    "import matplotlib.pyplot as plt\n",
    "\n",
    "import torch\n",
    "from PIL import Image\n",
    "from sklearn.model_selection import train_test_split\n",
    "from imblearn.over_sampling import RandomOverSampler\n",
    "import shutil as sh\n",
    "\n",
    "import json\n",
    "from collections import Counter"
   ]
  },
  {
   "cell_type": "code",
   "execution_count": 2,
   "id": "25b0fb18",
   "metadata": {
    "ExecuteTime": {
     "end_time": "2022-06-07T16:09:30.451216Z",
     "start_time": "2022-06-07T16:09:30.444271Z"
    },
    "colab": {
     "base_uri": "https://localhost:8080/"
    },
    "id": "25b0fb18",
    "outputId": "33f8d723-585e-4dbd-9b5f-5f01802aff89"
   },
   "outputs": [
    {
     "data": {
      "text/plain": [
       "True"
      ]
     },
     "execution_count": 2,
     "metadata": {},
     "output_type": "execute_result"
    }
   ],
   "source": [
    "colab = 'google.colab' in str(get_ipython())\n",
    "colab"
   ]
  },
  {
   "cell_type": "code",
   "execution_count": 3,
   "id": "5d0c8a91",
   "metadata": {
    "ExecuteTime": {
     "end_time": "2022-06-07T16:09:33.082504Z",
     "start_time": "2022-06-07T16:09:33.079725Z"
    },
    "colab": {
     "base_uri": "https://localhost:8080/"
    },
    "id": "5d0c8a91",
    "outputId": "b3d25050-1334-426f-f526-e8d626c4ca49"
   },
   "outputs": [
    {
     "name": "stdout",
     "output_type": "stream",
     "text": [
      "Mounted at /content/drive\n"
     ]
    }
   ],
   "source": [
    "if colab:\n",
    "    p_dir = '/content'\n",
    "    from google.colab import drive\n",
    "    drive.mount('/content/drive')\n",
    "else:\n",
    "    p_dir = '/home/zyp/w/d2l/detect_outfits'\n"
   ]
  },
  {
   "cell_type": "code",
   "execution_count": 4,
   "id": "HSlW6e1cQH5u",
   "metadata": {
    "ExecuteTime": {
     "end_time": "2022-06-07T16:09:34.850851Z",
     "start_time": "2022-06-07T16:09:34.845651Z"
    },
    "colab": {
     "base_uri": "https://localhost:8080/",
     "height": 1000
    },
    "id": "HSlW6e1cQH5u",
    "outputId": "776f5f8d-d097-480c-a325-47c332149696"
   },
   "outputs": [
    {
     "name": "stdout",
     "output_type": "stream",
     "text": [
      "Cloning into 'yolov5'...\n",
      "remote: Enumerating objects: 12132, done.\u001b[K\n",
      "remote: Total 12132 (delta 0), reused 0 (delta 0), pack-reused 12132\u001b[K\n",
      "Receiving objects: 100% (12132/12132), 11.89 MiB | 25.05 MiB/s, done.\n",
      "Resolving deltas: 100% (8399/8399), done.\n",
      "Looking in indexes: https://pypi.org/simple, https://us-python.pkg.dev/colab-wheels/public/simple/\n",
      "Requirement already satisfied: matplotlib>=3.2.2 in /usr/local/lib/python3.7/dist-packages (from -r yolov5/requirements.txt (line 5)) (3.2.2)\n",
      "Requirement already satisfied: numpy>=1.18.5 in /usr/local/lib/python3.7/dist-packages (from -r yolov5/requirements.txt (line 6)) (1.21.6)\n",
      "Requirement already satisfied: opencv-python>=4.1.1 in /usr/local/lib/python3.7/dist-packages (from -r yolov5/requirements.txt (line 7)) (4.1.2.30)\n",
      "Requirement already satisfied: Pillow>=7.1.2 in /usr/local/lib/python3.7/dist-packages (from -r yolov5/requirements.txt (line 8)) (7.1.2)\n",
      "Collecting PyYAML>=5.3.1\n",
      "  Downloading PyYAML-6.0-cp37-cp37m-manylinux_2_5_x86_64.manylinux1_x86_64.manylinux_2_12_x86_64.manylinux2010_x86_64.whl (596 kB)\n",
      "\u001b[K     |████████████████████████████████| 596 kB 7.5 MB/s \n",
      "\u001b[?25hRequirement already satisfied: requests>=2.23.0 in /usr/local/lib/python3.7/dist-packages (from -r yolov5/requirements.txt (line 10)) (2.23.0)\n",
      "Requirement already satisfied: scipy>=1.4.1 in /usr/local/lib/python3.7/dist-packages (from -r yolov5/requirements.txt (line 11)) (1.4.1)\n",
      "Requirement already satisfied: torch>=1.7.0 in /usr/local/lib/python3.7/dist-packages (from -r yolov5/requirements.txt (line 12)) (1.11.0+cu113)\n",
      "Requirement already satisfied: torchvision>=0.8.1 in /usr/local/lib/python3.7/dist-packages (from -r yolov5/requirements.txt (line 13)) (0.12.0+cu113)\n",
      "Requirement already satisfied: tqdm>=4.41.0 in /usr/local/lib/python3.7/dist-packages (from -r yolov5/requirements.txt (line 14)) (4.64.0)\n",
      "Requirement already satisfied: protobuf<=3.20.1 in /usr/local/lib/python3.7/dist-packages (from -r yolov5/requirements.txt (line 15)) (3.17.3)\n",
      "Requirement already satisfied: tensorboard>=2.4.1 in /usr/local/lib/python3.7/dist-packages (from -r yolov5/requirements.txt (line 18)) (2.8.0)\n",
      "Requirement already satisfied: pandas>=1.1.4 in /usr/local/lib/python3.7/dist-packages (from -r yolov5/requirements.txt (line 22)) (1.3.5)\n",
      "Requirement already satisfied: seaborn>=0.11.0 in /usr/local/lib/python3.7/dist-packages (from -r yolov5/requirements.txt (line 23)) (0.11.2)\n",
      "Requirement already satisfied: ipython in /usr/local/lib/python3.7/dist-packages (from -r yolov5/requirements.txt (line 35)) (5.5.0)\n",
      "Requirement already satisfied: psutil in /usr/local/lib/python3.7/dist-packages (from -r yolov5/requirements.txt (line 36)) (5.4.8)\n",
      "Collecting thop\n",
      "  Downloading thop-0.0.31.post2005241907-py3-none-any.whl (8.7 kB)\n",
      "Requirement already satisfied: kiwisolver>=1.0.1 in /usr/local/lib/python3.7/dist-packages (from matplotlib>=3.2.2->-r yolov5/requirements.txt (line 5)) (1.4.2)\n",
      "Requirement already satisfied: cycler>=0.10 in /usr/local/lib/python3.7/dist-packages (from matplotlib>=3.2.2->-r yolov5/requirements.txt (line 5)) (0.11.0)\n",
      "Requirement already satisfied: pyparsing!=2.0.4,!=2.1.2,!=2.1.6,>=2.0.1 in /usr/local/lib/python3.7/dist-packages (from matplotlib>=3.2.2->-r yolov5/requirements.txt (line 5)) (3.0.9)\n",
      "Requirement already satisfied: python-dateutil>=2.1 in /usr/local/lib/python3.7/dist-packages (from matplotlib>=3.2.2->-r yolov5/requirements.txt (line 5)) (2.8.2)\n",
      "Requirement already satisfied: certifi>=2017.4.17 in /usr/local/lib/python3.7/dist-packages (from requests>=2.23.0->-r yolov5/requirements.txt (line 10)) (2022.5.18.1)\n",
      "Requirement already satisfied: urllib3!=1.25.0,!=1.25.1,<1.26,>=1.21.1 in /usr/local/lib/python3.7/dist-packages (from requests>=2.23.0->-r yolov5/requirements.txt (line 10)) (1.24.3)\n",
      "Requirement already satisfied: chardet<4,>=3.0.2 in /usr/local/lib/python3.7/dist-packages (from requests>=2.23.0->-r yolov5/requirements.txt (line 10)) (3.0.4)\n",
      "Requirement already satisfied: idna<3,>=2.5 in /usr/local/lib/python3.7/dist-packages (from requests>=2.23.0->-r yolov5/requirements.txt (line 10)) (2.10)\n",
      "Requirement already satisfied: typing-extensions in /usr/local/lib/python3.7/dist-packages (from torch>=1.7.0->-r yolov5/requirements.txt (line 12)) (4.2.0)\n",
      "Requirement already satisfied: six>=1.9 in /usr/local/lib/python3.7/dist-packages (from protobuf<=3.20.1->-r yolov5/requirements.txt (line 15)) (1.15.0)\n",
      "Requirement already satisfied: wheel>=0.26 in /usr/local/lib/python3.7/dist-packages (from tensorboard>=2.4.1->-r yolov5/requirements.txt (line 18)) (0.37.1)\n",
      "Requirement already satisfied: google-auth-oauthlib<0.5,>=0.4.1 in /usr/local/lib/python3.7/dist-packages (from tensorboard>=2.4.1->-r yolov5/requirements.txt (line 18)) (0.4.6)\n",
      "Requirement already satisfied: google-auth<3,>=1.6.3 in /usr/local/lib/python3.7/dist-packages (from tensorboard>=2.4.1->-r yolov5/requirements.txt (line 18)) (1.35.0)\n",
      "Requirement already satisfied: markdown>=2.6.8 in /usr/local/lib/python3.7/dist-packages (from tensorboard>=2.4.1->-r yolov5/requirements.txt (line 18)) (3.3.7)\n",
      "Requirement already satisfied: setuptools>=41.0.0 in /usr/local/lib/python3.7/dist-packages (from tensorboard>=2.4.1->-r yolov5/requirements.txt (line 18)) (57.4.0)\n",
      "Requirement already satisfied: grpcio>=1.24.3 in /usr/local/lib/python3.7/dist-packages (from tensorboard>=2.4.1->-r yolov5/requirements.txt (line 18)) (1.46.3)\n",
      "Requirement already satisfied: absl-py>=0.4 in /usr/local/lib/python3.7/dist-packages (from tensorboard>=2.4.1->-r yolov5/requirements.txt (line 18)) (1.0.0)\n",
      "Requirement already satisfied: werkzeug>=0.11.15 in /usr/local/lib/python3.7/dist-packages (from tensorboard>=2.4.1->-r yolov5/requirements.txt (line 18)) (1.0.1)\n",
      "Requirement already satisfied: tensorboard-plugin-wit>=1.6.0 in /usr/local/lib/python3.7/dist-packages (from tensorboard>=2.4.1->-r yolov5/requirements.txt (line 18)) (1.8.1)\n",
      "Requirement already satisfied: tensorboard-data-server<0.7.0,>=0.6.0 in /usr/local/lib/python3.7/dist-packages (from tensorboard>=2.4.1->-r yolov5/requirements.txt (line 18)) (0.6.1)\n",
      "Requirement already satisfied: pytz>=2017.3 in /usr/local/lib/python3.7/dist-packages (from pandas>=1.1.4->-r yolov5/requirements.txt (line 22)) (2022.1)\n",
      "Requirement already satisfied: cachetools<5.0,>=2.0.0 in /usr/local/lib/python3.7/dist-packages (from google-auth<3,>=1.6.3->tensorboard>=2.4.1->-r yolov5/requirements.txt (line 18)) (4.2.4)\n",
      "Requirement already satisfied: pyasn1-modules>=0.2.1 in /usr/local/lib/python3.7/dist-packages (from google-auth<3,>=1.6.3->tensorboard>=2.4.1->-r yolov5/requirements.txt (line 18)) (0.2.8)\n",
      "Requirement already satisfied: rsa<5,>=3.1.4 in /usr/local/lib/python3.7/dist-packages (from google-auth<3,>=1.6.3->tensorboard>=2.4.1->-r yolov5/requirements.txt (line 18)) (4.8)\n",
      "Requirement already satisfied: requests-oauthlib>=0.7.0 in /usr/local/lib/python3.7/dist-packages (from google-auth-oauthlib<0.5,>=0.4.1->tensorboard>=2.4.1->-r yolov5/requirements.txt (line 18)) (1.3.1)\n",
      "Requirement already satisfied: importlib-metadata>=4.4 in /usr/local/lib/python3.7/dist-packages (from markdown>=2.6.8->tensorboard>=2.4.1->-r yolov5/requirements.txt (line 18)) (4.11.4)\n",
      "Requirement already satisfied: zipp>=0.5 in /usr/local/lib/python3.7/dist-packages (from importlib-metadata>=4.4->markdown>=2.6.8->tensorboard>=2.4.1->-r yolov5/requirements.txt (line 18)) (3.8.0)\n",
      "Requirement already satisfied: pyasn1<0.5.0,>=0.4.6 in /usr/local/lib/python3.7/dist-packages (from pyasn1-modules>=0.2.1->google-auth<3,>=1.6.3->tensorboard>=2.4.1->-r yolov5/requirements.txt (line 18)) (0.4.8)\n",
      "Requirement already satisfied: oauthlib>=3.0.0 in /usr/local/lib/python3.7/dist-packages (from requests-oauthlib>=0.7.0->google-auth-oauthlib<0.5,>=0.4.1->tensorboard>=2.4.1->-r yolov5/requirements.txt (line 18)) (3.2.0)\n",
      "Requirement already satisfied: pexpect in /usr/local/lib/python3.7/dist-packages (from ipython->-r yolov5/requirements.txt (line 35)) (4.8.0)\n",
      "Requirement already satisfied: decorator in /usr/local/lib/python3.7/dist-packages (from ipython->-r yolov5/requirements.txt (line 35)) (4.4.2)\n",
      "Requirement already satisfied: pickleshare in /usr/local/lib/python3.7/dist-packages (from ipython->-r yolov5/requirements.txt (line 35)) (0.7.5)\n",
      "Requirement already satisfied: prompt-toolkit<2.0.0,>=1.0.4 in /usr/local/lib/python3.7/dist-packages (from ipython->-r yolov5/requirements.txt (line 35)) (1.0.18)\n",
      "Requirement already satisfied: traitlets>=4.2 in /usr/local/lib/python3.7/dist-packages (from ipython->-r yolov5/requirements.txt (line 35)) (5.1.1)\n",
      "Requirement already satisfied: pygments in /usr/local/lib/python3.7/dist-packages (from ipython->-r yolov5/requirements.txt (line 35)) (2.6.1)\n",
      "Requirement already satisfied: simplegeneric>0.8 in /usr/local/lib/python3.7/dist-packages (from ipython->-r yolov5/requirements.txt (line 35)) (0.8.1)\n",
      "Requirement already satisfied: wcwidth in /usr/local/lib/python3.7/dist-packages (from prompt-toolkit<2.0.0,>=1.0.4->ipython->-r yolov5/requirements.txt (line 35)) (0.2.5)\n",
      "Requirement already satisfied: ptyprocess>=0.5 in /usr/local/lib/python3.7/dist-packages (from pexpect->ipython->-r yolov5/requirements.txt (line 35)) (0.7.0)\n",
      "Installing collected packages: thop, PyYAML\n",
      "  Attempting uninstall: PyYAML\n",
      "    Found existing installation: PyYAML 3.13\n",
      "    Uninstalling PyYAML-3.13:\n",
      "      Successfully uninstalled PyYAML-3.13\n",
      "Successfully installed PyYAML-6.0 thop-0.0.31.post2005241907\n"
     ]
    },
    {
     "data": {
      "application/vnd.colab-display-data+json": {
       "pip_warning": {
        "packages": [
         "yaml"
        ]
       }
      }
     },
     "metadata": {},
     "output_type": "display_data"
    },
    {
     "name": "stdout",
     "output_type": "stream",
     "text": [
      "Looking in indexes: https://pypi.org/simple, https://us-python.pkg.dev/colab-wheels/public/simple/\n",
      "Collecting ipython-autotime\n",
      "  Downloading ipython_autotime-0.3.1-py2.py3-none-any.whl (6.8 kB)\n",
      "Requirement already satisfied: ipython in /usr/local/lib/python3.7/dist-packages (from ipython-autotime) (5.5.0)\n",
      "Requirement already satisfied: pygments in /usr/local/lib/python3.7/dist-packages (from ipython->ipython-autotime) (2.6.1)\n",
      "Requirement already satisfied: decorator in /usr/local/lib/python3.7/dist-packages (from ipython->ipython-autotime) (4.4.2)\n",
      "Requirement already satisfied: pickleshare in /usr/local/lib/python3.7/dist-packages (from ipython->ipython-autotime) (0.7.5)\n",
      "Requirement already satisfied: prompt-toolkit<2.0.0,>=1.0.4 in /usr/local/lib/python3.7/dist-packages (from ipython->ipython-autotime) (1.0.18)\n",
      "Requirement already satisfied: traitlets>=4.2 in /usr/local/lib/python3.7/dist-packages (from ipython->ipython-autotime) (5.1.1)\n",
      "Requirement already satisfied: setuptools>=18.5 in /usr/local/lib/python3.7/dist-packages (from ipython->ipython-autotime) (57.4.0)\n",
      "Requirement already satisfied: pexpect in /usr/local/lib/python3.7/dist-packages (from ipython->ipython-autotime) (4.8.0)\n",
      "Requirement already satisfied: simplegeneric>0.8 in /usr/local/lib/python3.7/dist-packages (from ipython->ipython-autotime) (0.8.1)\n",
      "Requirement already satisfied: wcwidth in /usr/local/lib/python3.7/dist-packages (from prompt-toolkit<2.0.0,>=1.0.4->ipython->ipython-autotime) (0.2.5)\n",
      "Requirement already satisfied: six>=1.9.0 in /usr/local/lib/python3.7/dist-packages (from prompt-toolkit<2.0.0,>=1.0.4->ipython->ipython-autotime) (1.15.0)\n",
      "Requirement already satisfied: ptyprocess>=0.5 in /usr/local/lib/python3.7/dist-packages (from pexpect->ipython->ipython-autotime) (0.7.0)\n",
      "Installing collected packages: ipython-autotime\n",
      "Successfully installed ipython-autotime-0.3.1\n",
      "time: 19.2 s (started: 2022-06-07 23:26:56 +00:00)\n"
     ]
    }
   ],
   "source": [
    "if colab:\n",
    "    !git clone https://github.com/garrisonz/yolov5.git\n",
    "    !pip install -r yolov5/requirements.txt # install dependencies\n",
    "    \n",
    "    #显示运行时间\n",
    "    !pip install ipython-autotime\n",
    "    %load_ext autotime\n",
    "    \n",
    "    # load data\n",
    "    src = '/content/drive/MyDrive/colab/detect_outfits/cowboyoutfits.zip'\n",
    "    dst = '/content/data/cowboyoutfits.zip'\n",
    "    dir = '/content/data/origin/'\n",
    "    os.makedirs(dir, exist_ok=True)\n",
    "    sh.copy(src, dst)\n",
    "    sh.unpack_archive(dst, dir)\n",
    "    len(next(os.walk(dir))[2])"
   ]
  },
  {
   "cell_type": "code",
   "execution_count": 7,
   "id": "PwPyxAjaeQIy",
   "metadata": {
    "colab": {
     "base_uri": "https://localhost:8080/"
    },
    "id": "PwPyxAjaeQIy",
    "outputId": "f6fd4e65-59b7-4670-c189-416dc9366d87"
   },
   "outputs": [
    {
     "name": "stdout",
     "output_type": "stream",
     "text": [
      "time: 354 ms (started: 2022-06-07 23:28:22 +00:00)\n"
     ]
    }
   ],
   "source": [
    "if colab:\n",
    "    history_dir = p_dir + '/history'\n",
    "    os.makedirs(history_dir, exist_ok=True)\n",
    "\n",
    "    basic_epochs = 40\n",
    "    total_epochs = basic_epochs\n",
    "    archive_name = f'bln_epochs{basic_epochs}'\n",
    "    sh.copy(f'/content/drive/MyDrive/colab/detect_outfits/log/{archive_name}.zip', history_dir)\n",
    "\n",
    "    sh.unpack_archive(f'{history_dir}/{archive_name}.zip' , history_dir)\n",
    "    basic_pt = history_dir + '/' + archive_name + '/weights/last.pt'\n",
    "    print(basic_pt) \n",
    "    "
   ]
  },
  {
   "cell_type": "code",
   "execution_count": 9,
   "id": "Dngg-gp3QKU-",
   "metadata": {
    "ExecuteTime": {
     "end_time": "2022-06-07T16:09:38.128721Z",
     "start_time": "2022-06-07T16:09:38.099571Z"
    },
    "colab": {
     "base_uri": "https://localhost:8080/"
    },
    "id": "Dngg-gp3QKU-",
    "outputId": "0b694d8a-3d1f-44df-8fc4-375e9c853a3e"
   },
   "outputs": [
    {
     "name": "stdout",
     "output_type": "stream",
     "text": [
      "time: 27.9 ms (started: 2022-06-07 23:29:09 +00:00)\n"
     ]
    }
   ],
   "source": [
    "json_file_path = p_dir + '/data/origin/train.json'\n",
    "data = json.load(open(json_file_path, 'r'))"
   ]
  },
  {
   "cell_type": "code",
   "execution_count": 10,
   "id": "05fe7bcd",
   "metadata": {
    "ExecuteTime": {
     "end_time": "2022-06-07T16:09:49.314303Z",
     "start_time": "2022-06-07T16:09:49.309767Z"
    },
    "colab": {
     "base_uri": "https://localhost:8080/"
    },
    "id": "05fe7bcd",
    "outputId": "c338e3cb-5aa6-4ce5-d4ed-5eebed7937d4"
   },
   "outputs": [
    {
     "data": {
      "text/plain": [
       "{87: 'belt', 131: 'boot', 318: 'cowboy_hat', 588: 'jacket', 1034: 'sunglasses'}"
      ]
     },
     "execution_count": 10,
     "metadata": {},
     "output_type": "execute_result"
    },
    {
     "name": "stdout",
     "output_type": "stream",
     "text": [
      "time: 21.8 ms (started: 2022-06-07 23:29:11 +00:00)\n"
     ]
    }
   ],
   "source": [
    "cats = pd.DataFrame(data[\"categories\"])[['id', 'name']].set_index('id')\n",
    "cats_dict = cats.squeeze().to_dict()\n",
    "cats_dict"
   ]
  },
  {
   "cell_type": "code",
   "execution_count": 11,
   "id": "331907bb",
   "metadata": {
    "ExecuteTime": {
     "end_time": "2022-06-07T16:09:53.198642Z",
     "start_time": "2022-06-07T16:09:53.182918Z"
    },
    "colab": {
     "base_uri": "https://localhost:8080/",
     "height": 472
    },
    "id": "331907bb",
    "outputId": "c5106088-8bf1-4405-cf71-7fe4c2d24522",
    "scrolled": true
   },
   "outputs": [
    {
     "data": {
      "text/html": [
       "\n",
       "  <div id=\"df-87bc387b-6846-44ad-87e3-486e7f73d2ff\">\n",
       "    <div class=\"colab-df-container\">\n",
       "      <div>\n",
       "<style scoped>\n",
       "    .dataframe tbody tr th:only-of-type {\n",
       "        vertical-align: middle;\n",
       "    }\n",
       "\n",
       "    .dataframe tbody tr th {\n",
       "        vertical-align: top;\n",
       "    }\n",
       "\n",
       "    .dataframe thead th {\n",
       "        text-align: right;\n",
       "    }\n",
       "</style>\n",
       "<table border=\"1\" class=\"dataframe\">\n",
       "  <thead>\n",
       "    <tr style=\"text-align: right;\">\n",
       "      <th></th>\n",
       "      <th>image_id</th>\n",
       "      <th>category_id</th>\n",
       "      <th>bbox</th>\n",
       "    </tr>\n",
       "    <tr>\n",
       "      <th>id</th>\n",
       "      <th></th>\n",
       "      <th></th>\n",
       "      <th></th>\n",
       "    </tr>\n",
       "  </thead>\n",
       "  <tbody>\n",
       "    <tr>\n",
       "      <th>12550146</th>\n",
       "      <td>15526467552013451612</td>\n",
       "      <td>1034</td>\n",
       "      <td>[102.49, 181.12, 137.08, 97.92]</td>\n",
       "    </tr>\n",
       "    <tr>\n",
       "      <th>9764874</th>\n",
       "      <td>12017556593931260822</td>\n",
       "      <td>318</td>\n",
       "      <td>[284.8, 297.6, 252.8, 192.0]</td>\n",
       "    </tr>\n",
       "    <tr>\n",
       "      <th>13729810</th>\n",
       "      <td>17157301591781950087</td>\n",
       "      <td>318</td>\n",
       "      <td>[431.36, 277.25, 471.04, 314.39]</td>\n",
       "    </tr>\n",
       "    <tr>\n",
       "      <th>13959212</th>\n",
       "      <td>17494374403857745282</td>\n",
       "      <td>1034</td>\n",
       "      <td>[195.76, 237.59, 363.09, 85.33]</td>\n",
       "    </tr>\n",
       "    <tr>\n",
       "      <th>12910638</th>\n",
       "      <td>15979914912395313233</td>\n",
       "      <td>131</td>\n",
       "      <td>[263.04, 368.64, 182.4, 238.72]</td>\n",
       "    </tr>\n",
       "    <tr>\n",
       "      <th>...</th>\n",
       "      <td>...</td>\n",
       "      <td>...</td>\n",
       "      <td>...</td>\n",
       "    </tr>\n",
       "    <tr>\n",
       "      <th>8388588</th>\n",
       "      <td>10275527987851298058</td>\n",
       "      <td>1034</td>\n",
       "      <td>[284.16, 0.0, 739.2, 682.36]</td>\n",
       "    </tr>\n",
       "    <tr>\n",
       "      <th>1277936</th>\n",
       "      <td>1379797987660853607</td>\n",
       "      <td>318</td>\n",
       "      <td>[470.4, 49.6, 262.4, 211.2]</td>\n",
       "    </tr>\n",
       "    <tr>\n",
       "      <th>12943352</th>\n",
       "      <td>16021391580251818415</td>\n",
       "      <td>588</td>\n",
       "      <td>[105.6, 203.2, 916.8, 563.2]</td>\n",
       "    </tr>\n",
       "    <tr>\n",
       "      <th>5439486</th>\n",
       "      <td>6578021406860915270</td>\n",
       "      <td>318</td>\n",
       "      <td>[363.52, 55.68, 205.44, 134.4]</td>\n",
       "    </tr>\n",
       "    <tr>\n",
       "      <th>9502719</th>\n",
       "      <td>11684018977583795263</td>\n",
       "      <td>588</td>\n",
       "      <td>[524.16, 255.0, 365.44, 411.98]</td>\n",
       "    </tr>\n",
       "  </tbody>\n",
       "</table>\n",
       "<p>5594 rows × 3 columns</p>\n",
       "</div>\n",
       "      <button class=\"colab-df-convert\" onclick=\"convertToInteractive('df-87bc387b-6846-44ad-87e3-486e7f73d2ff')\"\n",
       "              title=\"Convert this dataframe to an interactive table.\"\n",
       "              style=\"display:none;\">\n",
       "        \n",
       "  <svg xmlns=\"http://www.w3.org/2000/svg\" height=\"24px\"viewBox=\"0 0 24 24\"\n",
       "       width=\"24px\">\n",
       "    <path d=\"M0 0h24v24H0V0z\" fill=\"none\"/>\n",
       "    <path d=\"M18.56 5.44l.94 2.06.94-2.06 2.06-.94-2.06-.94-.94-2.06-.94 2.06-2.06.94zm-11 1L8.5 8.5l.94-2.06 2.06-.94-2.06-.94L8.5 2.5l-.94 2.06-2.06.94zm10 10l.94 2.06.94-2.06 2.06-.94-2.06-.94-.94-2.06-.94 2.06-2.06.94z\"/><path d=\"M17.41 7.96l-1.37-1.37c-.4-.4-.92-.59-1.43-.59-.52 0-1.04.2-1.43.59L10.3 9.45l-7.72 7.72c-.78.78-.78 2.05 0 2.83L4 21.41c.39.39.9.59 1.41.59.51 0 1.02-.2 1.41-.59l7.78-7.78 2.81-2.81c.8-.78.8-2.07 0-2.86zM5.41 20L4 18.59l7.72-7.72 1.47 1.35L5.41 20z\"/>\n",
       "  </svg>\n",
       "      </button>\n",
       "      \n",
       "  <style>\n",
       "    .colab-df-container {\n",
       "      display:flex;\n",
       "      flex-wrap:wrap;\n",
       "      gap: 12px;\n",
       "    }\n",
       "\n",
       "    .colab-df-convert {\n",
       "      background-color: #E8F0FE;\n",
       "      border: none;\n",
       "      border-radius: 50%;\n",
       "      cursor: pointer;\n",
       "      display: none;\n",
       "      fill: #1967D2;\n",
       "      height: 32px;\n",
       "      padding: 0 0 0 0;\n",
       "      width: 32px;\n",
       "    }\n",
       "\n",
       "    .colab-df-convert:hover {\n",
       "      background-color: #E2EBFA;\n",
       "      box-shadow: 0px 1px 2px rgba(60, 64, 67, 0.3), 0px 1px 3px 1px rgba(60, 64, 67, 0.15);\n",
       "      fill: #174EA6;\n",
       "    }\n",
       "\n",
       "    [theme=dark] .colab-df-convert {\n",
       "      background-color: #3B4455;\n",
       "      fill: #D2E3FC;\n",
       "    }\n",
       "\n",
       "    [theme=dark] .colab-df-convert:hover {\n",
       "      background-color: #434B5C;\n",
       "      box-shadow: 0px 1px 3px 1px rgba(0, 0, 0, 0.15);\n",
       "      filter: drop-shadow(0px 1px 2px rgba(0, 0, 0, 0.3));\n",
       "      fill: #FFFFFF;\n",
       "    }\n",
       "  </style>\n",
       "\n",
       "      <script>\n",
       "        const buttonEl =\n",
       "          document.querySelector('#df-87bc387b-6846-44ad-87e3-486e7f73d2ff button.colab-df-convert');\n",
       "        buttonEl.style.display =\n",
       "          google.colab.kernel.accessAllowed ? 'block' : 'none';\n",
       "\n",
       "        async function convertToInteractive(key) {\n",
       "          const element = document.querySelector('#df-87bc387b-6846-44ad-87e3-486e7f73d2ff');\n",
       "          const dataTable =\n",
       "            await google.colab.kernel.invokeFunction('convertToInteractive',\n",
       "                                                     [key], {});\n",
       "          if (!dataTable) return;\n",
       "\n",
       "          const docLinkHtml = 'Like what you see? Visit the ' +\n",
       "            '<a target=\"_blank\" href=https://colab.research.google.com/notebooks/data_table.ipynb>data table notebook</a>'\n",
       "            + ' to learn more about interactive tables.';\n",
       "          element.innerHTML = '';\n",
       "          dataTable['output_type'] = 'display_data';\n",
       "          await google.colab.output.renderOutput(dataTable, element);\n",
       "          const docLink = document.createElement('div');\n",
       "          docLink.innerHTML = docLinkHtml;\n",
       "          element.appendChild(docLink);\n",
       "        }\n",
       "      </script>\n",
       "    </div>\n",
       "  </div>\n",
       "  "
      ],
      "text/plain": [
       "                      image_id  category_id                              bbox\n",
       "id                                                                           \n",
       "12550146  15526467552013451612         1034   [102.49, 181.12, 137.08, 97.92]\n",
       "9764874   12017556593931260822          318      [284.8, 297.6, 252.8, 192.0]\n",
       "13729810  17157301591781950087          318  [431.36, 277.25, 471.04, 314.39]\n",
       "13959212  17494374403857745282         1034   [195.76, 237.59, 363.09, 85.33]\n",
       "12910638  15979914912395313233          131   [263.04, 368.64, 182.4, 238.72]\n",
       "...                        ...          ...                               ...\n",
       "8388588   10275527987851298058         1034      [284.16, 0.0, 739.2, 682.36]\n",
       "1277936    1379797987660853607          318       [470.4, 49.6, 262.4, 211.2]\n",
       "12943352  16021391580251818415          588      [105.6, 203.2, 916.8, 563.2]\n",
       "5439486    6578021406860915270          318    [363.52, 55.68, 205.44, 134.4]\n",
       "9502719   11684018977583795263          588   [524.16, 255.0, 365.44, 411.98]\n",
       "\n",
       "[5594 rows x 3 columns]"
      ]
     },
     "execution_count": 11,
     "metadata": {},
     "output_type": "execute_result"
    },
    {
     "name": "stdout",
     "output_type": "stream",
     "text": [
      "time: 24.1 ms (started: 2022-06-07 23:31:58 +00:00)\n"
     ]
    }
   ],
   "source": [
    "anns = pd.DataFrame(data['annotations'])[['id', 'image_id', 'category_id', 'bbox']].set_index(\"id\")\n",
    "anns"
   ]
  },
  {
   "cell_type": "code",
   "execution_count": 12,
   "id": "eebea514",
   "metadata": {
    "ExecuteTime": {
     "end_time": "2022-06-07T16:10:06.565456Z",
     "start_time": "2022-06-07T16:10:06.561581Z"
    },
    "colab": {
     "base_uri": "https://localhost:8080/"
    },
    "id": "eebea514",
    "outputId": "b605084d-a02a-42c8-b31e-19b958a8db35"
   },
   "outputs": [
    {
     "data": {
      "text/plain": [
       "Counter({87: 25, 131: 449, 318: 595, 588: 2195, 1034: 2330})"
      ]
     },
     "execution_count": 12,
     "metadata": {},
     "output_type": "execute_result"
    },
    {
     "name": "stdout",
     "output_type": "stream",
     "text": [
      "time: 5.2 ms (started: 2022-06-07 23:31:59 +00:00)\n"
     ]
    }
   ],
   "source": [
    "Counter(anns['category_id'])"
   ]
  },
  {
   "cell_type": "code",
   "execution_count": 13,
   "id": "1950d62f",
   "metadata": {
    "ExecuteTime": {
     "end_time": "2022-06-07T16:10:11.513300Z",
     "start_time": "2022-06-07T16:10:11.508468Z"
    },
    "colab": {
     "base_uri": "https://localhost:8080/"
    },
    "id": "1950d62f",
    "outputId": "c6b4aaef-4a99-4dcd-b2c8-4606f89f8e8f"
   },
   "outputs": [
    {
     "name": "stdout",
     "output_type": "stream",
     "text": [
      "{87: 0, 1034: 1, 131: 2, 318: 3, 588: 4}\n",
      "{0: 87, 1: 1034, 2: 131, 3: 318, 4: 588}\n",
      "time: 17.2 ms (started: 2022-06-07 23:31:59 +00:00)\n"
     ]
    }
   ],
   "source": [
    "def cc2yolo_bbox(img_width, img_height, bbox):\n",
    "    dw = 1. / img_width\n",
    "    dh = 1. / img_height\n",
    "    x = bbox[0] + bbox[2] / 2.0\n",
    "    y = bbox[1] + bbox[3] / 2.0\n",
    "    w = bbox[2]\n",
    "    h = bbox[3]\n",
    " \n",
    "    x = x * dw\n",
    "    w = w * dw\n",
    "    y = y * dh\n",
    "    h = h * dh\n",
    "    return (x, y, w, h)\n",
    "\n",
    "def yolo2cc_bbox(img_width, img_height, bbox):\n",
    "    x = (bbox[0] - bbox[2] * 0.5) * img_width\n",
    "    y = (bbox[1] - bbox[3] * 0.5) * img_height\n",
    "    w = bbox[2] * img_width\n",
    "    h = bbox[3] * img_height\n",
    "    \n",
    "    return (x, y, w, h)\n",
    "\n",
    "def cat_to_id():\n",
    "    cat_id_map = {}\n",
    "    num = 0\n",
    "    for cate in data['categories']:\n",
    "        cat_id_map[cate['id']] = num\n",
    "        num+=1\n",
    "    return cat_id_map\n",
    "\n",
    "cat_id_map = cat_to_id()\n",
    "cate_id_map = cat_id_map\n",
    "print(cat_id_map)\n",
    "\n",
    "re_cat_id_map = dict(zip(cat_id_map.values(), cat_id_map.keys()))\n",
    "print(re_cat_id_map)"
   ]
  },
  {
   "cell_type": "code",
   "execution_count": 14,
   "id": "d8f72e0c",
   "metadata": {
    "ExecuteTime": {
     "end_time": "2022-06-07T16:10:14.891897Z",
     "start_time": "2022-06-07T16:10:14.879849Z"
    },
    "colab": {
     "base_uri": "https://localhost:8080/",
     "height": 472
    },
    "id": "d8f72e0c",
    "outputId": "e8cbba98-9d50-423b-e368-252f3f4cdb73"
   },
   "outputs": [
    {
     "data": {
      "text/html": [
       "\n",
       "  <div id=\"df-0e548e6c-e950-44f1-b1f4-4fcda7620116\">\n",
       "    <div class=\"colab-df-container\">\n",
       "      <div>\n",
       "<style scoped>\n",
       "    .dataframe tbody tr th:only-of-type {\n",
       "        vertical-align: middle;\n",
       "    }\n",
       "\n",
       "    .dataframe tbody tr th {\n",
       "        vertical-align: top;\n",
       "    }\n",
       "\n",
       "    .dataframe thead th {\n",
       "        text-align: right;\n",
       "    }\n",
       "</style>\n",
       "<table border=\"1\" class=\"dataframe\">\n",
       "  <thead>\n",
       "    <tr style=\"text-align: right;\">\n",
       "      <th></th>\n",
       "      <th>file_name</th>\n",
       "      <th>width</th>\n",
       "      <th>height</th>\n",
       "    </tr>\n",
       "    <tr>\n",
       "      <th>id</th>\n",
       "      <th></th>\n",
       "      <th></th>\n",
       "      <th></th>\n",
       "    </tr>\n",
       "  </thead>\n",
       "  <tbody>\n",
       "    <tr>\n",
       "      <th>9860841628484337660</th>\n",
       "      <td>88d8bf3754317ffc.jpg</td>\n",
       "      <td>1024</td>\n",
       "      <td>681</td>\n",
       "    </tr>\n",
       "    <tr>\n",
       "      <th>15984033263460081658</th>\n",
       "      <td>ddd2b190ea90dffa.jpg</td>\n",
       "      <td>768</td>\n",
       "      <td>1024</td>\n",
       "    </tr>\n",
       "    <tr>\n",
       "      <th>76077631043502082</th>\n",
       "      <td>010e4833cdb38002.jpg</td>\n",
       "      <td>1024</td>\n",
       "      <td>683</td>\n",
       "    </tr>\n",
       "    <tr>\n",
       "      <th>18065680256228130812</th>\n",
       "      <td>fab6307a1a43fffc.jpg</td>\n",
       "      <td>683</td>\n",
       "      <td>1024</td>\n",
       "    </tr>\n",
       "    <tr>\n",
       "      <th>9491379842992996352</th>\n",
       "      <td>83b827ae01e68000.jpg</td>\n",
       "      <td>1024</td>\n",
       "      <td>768</td>\n",
       "    </tr>\n",
       "    <tr>\n",
       "      <th>...</th>\n",
       "      <td>...</td>\n",
       "      <td>...</td>\n",
       "      <td>...</td>\n",
       "    </tr>\n",
       "    <tr>\n",
       "      <th>10412147159402939302</th>\n",
       "      <td>907f60acf14e03a6.jpg</td>\n",
       "      <td>1024</td>\n",
       "      <td>819</td>\n",
       "    </tr>\n",
       "    <tr>\n",
       "      <th>4866906309960860041</th>\n",
       "      <td>438ab980c0530189.jpg</td>\n",
       "      <td>1024</td>\n",
       "      <td>681</td>\n",
       "    </tr>\n",
       "    <tr>\n",
       "      <th>10441816352675791240</th>\n",
       "      <td>90e8c8a64f1b0188.jpg</td>\n",
       "      <td>1024</td>\n",
       "      <td>1024</td>\n",
       "    </tr>\n",
       "    <tr>\n",
       "      <th>870074673180639629</th>\n",
       "      <td>0c13204e2eff018d.jpg</td>\n",
       "      <td>1024</td>\n",
       "      <td>683</td>\n",
       "    </tr>\n",
       "    <tr>\n",
       "      <th>16431387941912117646</th>\n",
       "      <td>e4080446a44f018e.jpg</td>\n",
       "      <td>652</td>\n",
       "      <td>1024</td>\n",
       "    </tr>\n",
       "  </tbody>\n",
       "</table>\n",
       "<p>3062 rows × 3 columns</p>\n",
       "</div>\n",
       "      <button class=\"colab-df-convert\" onclick=\"convertToInteractive('df-0e548e6c-e950-44f1-b1f4-4fcda7620116')\"\n",
       "              title=\"Convert this dataframe to an interactive table.\"\n",
       "              style=\"display:none;\">\n",
       "        \n",
       "  <svg xmlns=\"http://www.w3.org/2000/svg\" height=\"24px\"viewBox=\"0 0 24 24\"\n",
       "       width=\"24px\">\n",
       "    <path d=\"M0 0h24v24H0V0z\" fill=\"none\"/>\n",
       "    <path d=\"M18.56 5.44l.94 2.06.94-2.06 2.06-.94-2.06-.94-.94-2.06-.94 2.06-2.06.94zm-11 1L8.5 8.5l.94-2.06 2.06-.94-2.06-.94L8.5 2.5l-.94 2.06-2.06.94zm10 10l.94 2.06.94-2.06 2.06-.94-2.06-.94-.94-2.06-.94 2.06-2.06.94z\"/><path d=\"M17.41 7.96l-1.37-1.37c-.4-.4-.92-.59-1.43-.59-.52 0-1.04.2-1.43.59L10.3 9.45l-7.72 7.72c-.78.78-.78 2.05 0 2.83L4 21.41c.39.39.9.59 1.41.59.51 0 1.02-.2 1.41-.59l7.78-7.78 2.81-2.81c.8-.78.8-2.07 0-2.86zM5.41 20L4 18.59l7.72-7.72 1.47 1.35L5.41 20z\"/>\n",
       "  </svg>\n",
       "      </button>\n",
       "      \n",
       "  <style>\n",
       "    .colab-df-container {\n",
       "      display:flex;\n",
       "      flex-wrap:wrap;\n",
       "      gap: 12px;\n",
       "    }\n",
       "\n",
       "    .colab-df-convert {\n",
       "      background-color: #E8F0FE;\n",
       "      border: none;\n",
       "      border-radius: 50%;\n",
       "      cursor: pointer;\n",
       "      display: none;\n",
       "      fill: #1967D2;\n",
       "      height: 32px;\n",
       "      padding: 0 0 0 0;\n",
       "      width: 32px;\n",
       "    }\n",
       "\n",
       "    .colab-df-convert:hover {\n",
       "      background-color: #E2EBFA;\n",
       "      box-shadow: 0px 1px 2px rgba(60, 64, 67, 0.3), 0px 1px 3px 1px rgba(60, 64, 67, 0.15);\n",
       "      fill: #174EA6;\n",
       "    }\n",
       "\n",
       "    [theme=dark] .colab-df-convert {\n",
       "      background-color: #3B4455;\n",
       "      fill: #D2E3FC;\n",
       "    }\n",
       "\n",
       "    [theme=dark] .colab-df-convert:hover {\n",
       "      background-color: #434B5C;\n",
       "      box-shadow: 0px 1px 3px 1px rgba(0, 0, 0, 0.15);\n",
       "      filter: drop-shadow(0px 1px 2px rgba(0, 0, 0, 0.3));\n",
       "      fill: #FFFFFF;\n",
       "    }\n",
       "  </style>\n",
       "\n",
       "      <script>\n",
       "        const buttonEl =\n",
       "          document.querySelector('#df-0e548e6c-e950-44f1-b1f4-4fcda7620116 button.colab-df-convert');\n",
       "        buttonEl.style.display =\n",
       "          google.colab.kernel.accessAllowed ? 'block' : 'none';\n",
       "\n",
       "        async function convertToInteractive(key) {\n",
       "          const element = document.querySelector('#df-0e548e6c-e950-44f1-b1f4-4fcda7620116');\n",
       "          const dataTable =\n",
       "            await google.colab.kernel.invokeFunction('convertToInteractive',\n",
       "                                                     [key], {});\n",
       "          if (!dataTable) return;\n",
       "\n",
       "          const docLinkHtml = 'Like what you see? Visit the ' +\n",
       "            '<a target=\"_blank\" href=https://colab.research.google.com/notebooks/data_table.ipynb>data table notebook</a>'\n",
       "            + ' to learn more about interactive tables.';\n",
       "          element.innerHTML = '';\n",
       "          dataTable['output_type'] = 'display_data';\n",
       "          await google.colab.output.renderOutput(dataTable, element);\n",
       "          const docLink = document.createElement('div');\n",
       "          docLink.innerHTML = docLinkHtml;\n",
       "          element.appendChild(docLink);\n",
       "        }\n",
       "      </script>\n",
       "    </div>\n",
       "  </div>\n",
       "  "
      ],
      "text/plain": [
       "                                 file_name  width  height\n",
       "id                                                       \n",
       "9860841628484337660   88d8bf3754317ffc.jpg   1024     681\n",
       "15984033263460081658  ddd2b190ea90dffa.jpg    768    1024\n",
       "76077631043502082     010e4833cdb38002.jpg   1024     683\n",
       "18065680256228130812  fab6307a1a43fffc.jpg    683    1024\n",
       "9491379842992996352   83b827ae01e68000.jpg   1024     768\n",
       "...                                    ...    ...     ...\n",
       "10412147159402939302  907f60acf14e03a6.jpg   1024     819\n",
       "4866906309960860041   438ab980c0530189.jpg   1024     681\n",
       "10441816352675791240  90e8c8a64f1b0188.jpg   1024    1024\n",
       "870074673180639629    0c13204e2eff018d.jpg   1024     683\n",
       "16431387941912117646  e4080446a44f018e.jpg    652    1024\n",
       "\n",
       "[3062 rows x 3 columns]"
      ]
     },
     "execution_count": 14,
     "metadata": {},
     "output_type": "execute_result"
    },
    {
     "name": "stdout",
     "output_type": "stream",
     "text": [
      "time: 17.9 ms (started: 2022-06-07 23:31:59 +00:00)\n"
     ]
    }
   ],
   "source": [
    "imgs = pd.DataFrame(data['images'])[[\"id\", \"file_name\", \"width\", \"height\"]].set_index('id')\n",
    "\n",
    "small_set = 0\n",
    "if small_set:\n",
    "    imgs = imgs[:10]\n",
    "imgs"
   ]
  },
  {
   "cell_type": "code",
   "execution_count": 15,
   "id": "84b804aa",
   "metadata": {
    "ExecuteTime": {
     "end_time": "2022-06-07T16:10:20.805102Z",
     "start_time": "2022-06-07T16:10:20.796341Z"
    },
    "colab": {
     "base_uri": "https://localhost:8080/",
     "height": 490
    },
    "id": "84b804aa",
    "outputId": "d267060a-2eb8-41aa-c64e-6e6897666fe4"
   },
   "outputs": [
    {
     "name": "stdout",
     "output_type": "stream",
     "text": [
      "2449 613\n"
     ]
    },
    {
     "data": {
      "text/html": [
       "\n",
       "  <div id=\"df-af13e830-5d8b-49c8-9132-7e86c545e096\">\n",
       "    <div class=\"colab-df-container\">\n",
       "      <div>\n",
       "<style scoped>\n",
       "    .dataframe tbody tr th:only-of-type {\n",
       "        vertical-align: middle;\n",
       "    }\n",
       "\n",
       "    .dataframe tbody tr th {\n",
       "        vertical-align: top;\n",
       "    }\n",
       "\n",
       "    .dataframe thead th {\n",
       "        text-align: right;\n",
       "    }\n",
       "</style>\n",
       "<table border=\"1\" class=\"dataframe\">\n",
       "  <thead>\n",
       "    <tr style=\"text-align: right;\">\n",
       "      <th></th>\n",
       "      <th>file_name</th>\n",
       "      <th>width</th>\n",
       "      <th>height</th>\n",
       "    </tr>\n",
       "    <tr>\n",
       "      <th>id</th>\n",
       "      <th></th>\n",
       "      <th></th>\n",
       "      <th></th>\n",
       "    </tr>\n",
       "  </thead>\n",
       "  <tbody>\n",
       "    <tr>\n",
       "      <th>5180813895364543634</th>\n",
       "      <td>47e5f2c9e89c8492.jpg</td>\n",
       "      <td>1024</td>\n",
       "      <td>1001</td>\n",
       "    </tr>\n",
       "    <tr>\n",
       "      <th>17003661551598027224</th>\n",
       "      <td>ebf9241787f7c1d8.jpg</td>\n",
       "      <td>1024</td>\n",
       "      <td>681</td>\n",
       "    </tr>\n",
       "    <tr>\n",
       "      <th>12743304695942482017</th>\n",
       "      <td>b0d9501aa2380861.jpg</td>\n",
       "      <td>1024</td>\n",
       "      <td>640</td>\n",
       "    </tr>\n",
       "    <tr>\n",
       "      <th>1699768557964395625</th>\n",
       "      <td>1796ca7f69d88469.jpg</td>\n",
       "      <td>768</td>\n",
       "      <td>1024</td>\n",
       "    </tr>\n",
       "    <tr>\n",
       "      <th>9173391940436394037</th>\n",
       "      <td>7f4e6f5dfb248035.jpg</td>\n",
       "      <td>1024</td>\n",
       "      <td>683</td>\n",
       "    </tr>\n",
       "    <tr>\n",
       "      <th>...</th>\n",
       "      <td>...</td>\n",
       "      <td>...</td>\n",
       "      <td>...</td>\n",
       "    </tr>\n",
       "    <tr>\n",
       "      <th>4088288576445451227</th>\n",
       "      <td>38bc84ccb2518bdb.jpg</td>\n",
       "      <td>1024</td>\n",
       "      <td>683</td>\n",
       "    </tr>\n",
       "    <tr>\n",
       "      <th>12791859404168037664</th>\n",
       "      <td>b185d05a9a2d0520.jpg</td>\n",
       "      <td>768</td>\n",
       "      <td>1024</td>\n",
       "    </tr>\n",
       "    <tr>\n",
       "      <th>15646941784381426067</th>\n",
       "      <td>d9251aa6df458993.jpg</td>\n",
       "      <td>1024</td>\n",
       "      <td>1024</td>\n",
       "    </tr>\n",
       "    <tr>\n",
       "      <th>2738013392635202447</th>\n",
       "      <td>25ff60ac8a488b8f.jpg</td>\n",
       "      <td>1024</td>\n",
       "      <td>681</td>\n",
       "    </tr>\n",
       "    <tr>\n",
       "      <th>6847990592239993288</th>\n",
       "      <td>5f08f32953ae81c8.jpg</td>\n",
       "      <td>1024</td>\n",
       "      <td>683</td>\n",
       "    </tr>\n",
       "  </tbody>\n",
       "</table>\n",
       "<p>2449 rows × 3 columns</p>\n",
       "</div>\n",
       "      <button class=\"colab-df-convert\" onclick=\"convertToInteractive('df-af13e830-5d8b-49c8-9132-7e86c545e096')\"\n",
       "              title=\"Convert this dataframe to an interactive table.\"\n",
       "              style=\"display:none;\">\n",
       "        \n",
       "  <svg xmlns=\"http://www.w3.org/2000/svg\" height=\"24px\"viewBox=\"0 0 24 24\"\n",
       "       width=\"24px\">\n",
       "    <path d=\"M0 0h24v24H0V0z\" fill=\"none\"/>\n",
       "    <path d=\"M18.56 5.44l.94 2.06.94-2.06 2.06-.94-2.06-.94-.94-2.06-.94 2.06-2.06.94zm-11 1L8.5 8.5l.94-2.06 2.06-.94-2.06-.94L8.5 2.5l-.94 2.06-2.06.94zm10 10l.94 2.06.94-2.06 2.06-.94-2.06-.94-.94-2.06-.94 2.06-2.06.94z\"/><path d=\"M17.41 7.96l-1.37-1.37c-.4-.4-.92-.59-1.43-.59-.52 0-1.04.2-1.43.59L10.3 9.45l-7.72 7.72c-.78.78-.78 2.05 0 2.83L4 21.41c.39.39.9.59 1.41.59.51 0 1.02-.2 1.41-.59l7.78-7.78 2.81-2.81c.8-.78.8-2.07 0-2.86zM5.41 20L4 18.59l7.72-7.72 1.47 1.35L5.41 20z\"/>\n",
       "  </svg>\n",
       "      </button>\n",
       "      \n",
       "  <style>\n",
       "    .colab-df-container {\n",
       "      display:flex;\n",
       "      flex-wrap:wrap;\n",
       "      gap: 12px;\n",
       "    }\n",
       "\n",
       "    .colab-df-convert {\n",
       "      background-color: #E8F0FE;\n",
       "      border: none;\n",
       "      border-radius: 50%;\n",
       "      cursor: pointer;\n",
       "      display: none;\n",
       "      fill: #1967D2;\n",
       "      height: 32px;\n",
       "      padding: 0 0 0 0;\n",
       "      width: 32px;\n",
       "    }\n",
       "\n",
       "    .colab-df-convert:hover {\n",
       "      background-color: #E2EBFA;\n",
       "      box-shadow: 0px 1px 2px rgba(60, 64, 67, 0.3), 0px 1px 3px 1px rgba(60, 64, 67, 0.15);\n",
       "      fill: #174EA6;\n",
       "    }\n",
       "\n",
       "    [theme=dark] .colab-df-convert {\n",
       "      background-color: #3B4455;\n",
       "      fill: #D2E3FC;\n",
       "    }\n",
       "\n",
       "    [theme=dark] .colab-df-convert:hover {\n",
       "      background-color: #434B5C;\n",
       "      box-shadow: 0px 1px 3px 1px rgba(0, 0, 0, 0.15);\n",
       "      filter: drop-shadow(0px 1px 2px rgba(0, 0, 0, 0.3));\n",
       "      fill: #FFFFFF;\n",
       "    }\n",
       "  </style>\n",
       "\n",
       "      <script>\n",
       "        const buttonEl =\n",
       "          document.querySelector('#df-af13e830-5d8b-49c8-9132-7e86c545e096 button.colab-df-convert');\n",
       "        buttonEl.style.display =\n",
       "          google.colab.kernel.accessAllowed ? 'block' : 'none';\n",
       "\n",
       "        async function convertToInteractive(key) {\n",
       "          const element = document.querySelector('#df-af13e830-5d8b-49c8-9132-7e86c545e096');\n",
       "          const dataTable =\n",
       "            await google.colab.kernel.invokeFunction('convertToInteractive',\n",
       "                                                     [key], {});\n",
       "          if (!dataTable) return;\n",
       "\n",
       "          const docLinkHtml = 'Like what you see? Visit the ' +\n",
       "            '<a target=\"_blank\" href=https://colab.research.google.com/notebooks/data_table.ipynb>data table notebook</a>'\n",
       "            + ' to learn more about interactive tables.';\n",
       "          element.innerHTML = '';\n",
       "          dataTable['output_type'] = 'display_data';\n",
       "          await google.colab.output.renderOutput(dataTable, element);\n",
       "          const docLink = document.createElement('div');\n",
       "          docLink.innerHTML = docLinkHtml;\n",
       "          element.appendChild(docLink);\n",
       "        }\n",
       "      </script>\n",
       "    </div>\n",
       "  </div>\n",
       "  "
      ],
      "text/plain": [
       "                                 file_name  width  height\n",
       "id                                                       \n",
       "5180813895364543634   47e5f2c9e89c8492.jpg   1024    1001\n",
       "17003661551598027224  ebf9241787f7c1d8.jpg   1024     681\n",
       "12743304695942482017  b0d9501aa2380861.jpg   1024     640\n",
       "1699768557964395625   1796ca7f69d88469.jpg    768    1024\n",
       "9173391940436394037   7f4e6f5dfb248035.jpg   1024     683\n",
       "...                                    ...    ...     ...\n",
       "4088288576445451227   38bc84ccb2518bdb.jpg   1024     683\n",
       "12791859404168037664  b185d05a9a2d0520.jpg    768    1024\n",
       "15646941784381426067  d9251aa6df458993.jpg   1024    1024\n",
       "2738013392635202447   25ff60ac8a488b8f.jpg   1024     681\n",
       "6847990592239993288   5f08f32953ae81c8.jpg   1024     683\n",
       "\n",
       "[2449 rows x 3 columns]"
      ]
     },
     "execution_count": 15,
     "metadata": {},
     "output_type": "execute_result"
    },
    {
     "name": "stdout",
     "output_type": "stream",
     "text": [
      "time: 12.7 ms (started: 2022-06-07 23:31:59 +00:00)\n"
     ]
    }
   ],
   "source": [
    "train_imgs, valid_imgs = train_test_split(imgs, test_size=0.2, random_state=233)\n",
    "print(len(train_imgs), len(valid_imgs))\n",
    "train_imgs"
   ]
  },
  {
   "cell_type": "code",
   "execution_count": 16,
   "id": "d497e85f",
   "metadata": {
    "ExecuteTime": {
     "end_time": "2022-06-07T16:10:24.284949Z",
     "start_time": "2022-06-07T16:10:24.240188Z"
    },
    "colab": {
     "base_uri": "https://localhost:8080/"
    },
    "id": "d497e85f",
    "outputId": "c8094cc0-826e-42d6-a0cb-cb1653a4b8f3"
   },
   "outputs": [
    {
     "name": "stdout",
     "output_type": "stream",
     "text": [
      "19 17\n",
      "time: 4.13 ms (started: 2022-06-07 23:31:59 +00:00)\n"
     ]
    }
   ],
   "source": [
    "belt_imgs = []\n",
    "for i in data['annotations']:\n",
    "    if i['category_id'] == 87 and i['image_id'] in train_imgs.index:\n",
    "        belt_imgs.append(i['image_id'])\n",
    "\n",
    "print(len(belt_imgs), len(set(belt_imgs)))\n",
    "belt_imgs = list(set(belt_imgs))\n",
    "#belt_imgs"
   ]
  },
  {
   "cell_type": "code",
   "execution_count": 17,
   "id": "a877706f",
   "metadata": {
    "ExecuteTime": {
     "end_time": "2022-06-07T16:10:50.578784Z",
     "start_time": "2022-06-07T16:10:50.574992Z"
    },
    "colab": {
     "base_uri": "https://localhost:8080/"
    },
    "id": "a877706f",
    "outputId": "1e0475a0-cef5-4d53-b12f-3a2bcfcf2d4c"
   },
   "outputs": [
    {
     "data": {
      "text/plain": [
       "2449"
      ]
     },
     "execution_count": 17,
     "metadata": {},
     "output_type": "execute_result"
    },
    {
     "name": "stdout",
     "output_type": "stream",
     "text": [
      "time: 6.12 ms (started: 2022-06-07 23:31:59 +00:00)\n"
     ]
    }
   ],
   "source": [
    "len(train_imgs.reset_index().to_numpy())"
   ]
  },
  {
   "cell_type": "code",
   "execution_count": 18,
   "id": "d25d6b74",
   "metadata": {
    "ExecuteTime": {
     "end_time": "2022-06-07T16:23:13.601660Z",
     "start_time": "2022-06-07T16:23:13.590461Z"
    },
    "colab": {
     "base_uri": "https://localhost:8080/",
     "height": 472
    },
    "id": "d25d6b74",
    "outputId": "bdbf9db4-f983-486d-9308-7f7f685a29a0"
   },
   "outputs": [
    {
     "data": {
      "text/html": [
       "\n",
       "  <div id=\"df-ff0388bb-8881-4901-abec-bded83469746\">\n",
       "    <div class=\"colab-df-container\">\n",
       "      <div>\n",
       "<style scoped>\n",
       "    .dataframe tbody tr th:only-of-type {\n",
       "        vertical-align: middle;\n",
       "    }\n",
       "\n",
       "    .dataframe tbody tr th {\n",
       "        vertical-align: top;\n",
       "    }\n",
       "\n",
       "    .dataframe thead th {\n",
       "        text-align: right;\n",
       "    }\n",
       "</style>\n",
       "<table border=\"1\" class=\"dataframe\">\n",
       "  <thead>\n",
       "    <tr style=\"text-align: right;\">\n",
       "      <th></th>\n",
       "      <th>image_id</th>\n",
       "      <th>category_id</th>\n",
       "      <th>bbox</th>\n",
       "    </tr>\n",
       "    <tr>\n",
       "      <th>id</th>\n",
       "      <th></th>\n",
       "      <th></th>\n",
       "      <th></th>\n",
       "    </tr>\n",
       "  </thead>\n",
       "  <tbody>\n",
       "    <tr>\n",
       "      <th>12550146</th>\n",
       "      <td>15526467552013451612</td>\n",
       "      <td>1034</td>\n",
       "      <td>[102.49, 181.12, 137.08, 97.92]</td>\n",
       "    </tr>\n",
       "    <tr>\n",
       "      <th>9764874</th>\n",
       "      <td>12017556593931260822</td>\n",
       "      <td>318</td>\n",
       "      <td>[284.8, 297.6, 252.8, 192.0]</td>\n",
       "    </tr>\n",
       "    <tr>\n",
       "      <th>13729810</th>\n",
       "      <td>17157301591781950087</td>\n",
       "      <td>318</td>\n",
       "      <td>[431.36, 277.25, 471.04, 314.39]</td>\n",
       "    </tr>\n",
       "    <tr>\n",
       "      <th>13959212</th>\n",
       "      <td>17494374403857745282</td>\n",
       "      <td>1034</td>\n",
       "      <td>[195.76, 237.59, 363.09, 85.33]</td>\n",
       "    </tr>\n",
       "    <tr>\n",
       "      <th>12910638</th>\n",
       "      <td>15979914912395313233</td>\n",
       "      <td>131</td>\n",
       "      <td>[263.04, 368.64, 182.4, 238.72]</td>\n",
       "    </tr>\n",
       "    <tr>\n",
       "      <th>...</th>\n",
       "      <td>...</td>\n",
       "      <td>...</td>\n",
       "      <td>...</td>\n",
       "    </tr>\n",
       "    <tr>\n",
       "      <th>8388588</th>\n",
       "      <td>10275527987851298058</td>\n",
       "      <td>1034</td>\n",
       "      <td>[284.16, 0.0, 739.2, 682.36]</td>\n",
       "    </tr>\n",
       "    <tr>\n",
       "      <th>1277936</th>\n",
       "      <td>1379797987660853607</td>\n",
       "      <td>318</td>\n",
       "      <td>[470.4, 49.6, 262.4, 211.2]</td>\n",
       "    </tr>\n",
       "    <tr>\n",
       "      <th>12943352</th>\n",
       "      <td>16021391580251818415</td>\n",
       "      <td>588</td>\n",
       "      <td>[105.6, 203.2, 916.8, 563.2]</td>\n",
       "    </tr>\n",
       "    <tr>\n",
       "      <th>5439486</th>\n",
       "      <td>6578021406860915270</td>\n",
       "      <td>318</td>\n",
       "      <td>[363.52, 55.68, 205.44, 134.4]</td>\n",
       "    </tr>\n",
       "    <tr>\n",
       "      <th>9502719</th>\n",
       "      <td>11684018977583795263</td>\n",
       "      <td>588</td>\n",
       "      <td>[524.16, 255.0, 365.44, 411.98]</td>\n",
       "    </tr>\n",
       "  </tbody>\n",
       "</table>\n",
       "<p>5594 rows × 3 columns</p>\n",
       "</div>\n",
       "      <button class=\"colab-df-convert\" onclick=\"convertToInteractive('df-ff0388bb-8881-4901-abec-bded83469746')\"\n",
       "              title=\"Convert this dataframe to an interactive table.\"\n",
       "              style=\"display:none;\">\n",
       "        \n",
       "  <svg xmlns=\"http://www.w3.org/2000/svg\" height=\"24px\"viewBox=\"0 0 24 24\"\n",
       "       width=\"24px\">\n",
       "    <path d=\"M0 0h24v24H0V0z\" fill=\"none\"/>\n",
       "    <path d=\"M18.56 5.44l.94 2.06.94-2.06 2.06-.94-2.06-.94-.94-2.06-.94 2.06-2.06.94zm-11 1L8.5 8.5l.94-2.06 2.06-.94-2.06-.94L8.5 2.5l-.94 2.06-2.06.94zm10 10l.94 2.06.94-2.06 2.06-.94-2.06-.94-.94-2.06-.94 2.06-2.06.94z\"/><path d=\"M17.41 7.96l-1.37-1.37c-.4-.4-.92-.59-1.43-.59-.52 0-1.04.2-1.43.59L10.3 9.45l-7.72 7.72c-.78.78-.78 2.05 0 2.83L4 21.41c.39.39.9.59 1.41.59.51 0 1.02-.2 1.41-.59l7.78-7.78 2.81-2.81c.8-.78.8-2.07 0-2.86zM5.41 20L4 18.59l7.72-7.72 1.47 1.35L5.41 20z\"/>\n",
       "  </svg>\n",
       "      </button>\n",
       "      \n",
       "  <style>\n",
       "    .colab-df-container {\n",
       "      display:flex;\n",
       "      flex-wrap:wrap;\n",
       "      gap: 12px;\n",
       "    }\n",
       "\n",
       "    .colab-df-convert {\n",
       "      background-color: #E8F0FE;\n",
       "      border: none;\n",
       "      border-radius: 50%;\n",
       "      cursor: pointer;\n",
       "      display: none;\n",
       "      fill: #1967D2;\n",
       "      height: 32px;\n",
       "      padding: 0 0 0 0;\n",
       "      width: 32px;\n",
       "    }\n",
       "\n",
       "    .colab-df-convert:hover {\n",
       "      background-color: #E2EBFA;\n",
       "      box-shadow: 0px 1px 2px rgba(60, 64, 67, 0.3), 0px 1px 3px 1px rgba(60, 64, 67, 0.15);\n",
       "      fill: #174EA6;\n",
       "    }\n",
       "\n",
       "    [theme=dark] .colab-df-convert {\n",
       "      background-color: #3B4455;\n",
       "      fill: #D2E3FC;\n",
       "    }\n",
       "\n",
       "    [theme=dark] .colab-df-convert:hover {\n",
       "      background-color: #434B5C;\n",
       "      box-shadow: 0px 1px 3px 1px rgba(0, 0, 0, 0.15);\n",
       "      filter: drop-shadow(0px 1px 2px rgba(0, 0, 0, 0.3));\n",
       "      fill: #FFFFFF;\n",
       "    }\n",
       "  </style>\n",
       "\n",
       "      <script>\n",
       "        const buttonEl =\n",
       "          document.querySelector('#df-ff0388bb-8881-4901-abec-bded83469746 button.colab-df-convert');\n",
       "        buttonEl.style.display =\n",
       "          google.colab.kernel.accessAllowed ? 'block' : 'none';\n",
       "\n",
       "        async function convertToInteractive(key) {\n",
       "          const element = document.querySelector('#df-ff0388bb-8881-4901-abec-bded83469746');\n",
       "          const dataTable =\n",
       "            await google.colab.kernel.invokeFunction('convertToInteractive',\n",
       "                                                     [key], {});\n",
       "          if (!dataTable) return;\n",
       "\n",
       "          const docLinkHtml = 'Like what you see? Visit the ' +\n",
       "            '<a target=\"_blank\" href=https://colab.research.google.com/notebooks/data_table.ipynb>data table notebook</a>'\n",
       "            + ' to learn more about interactive tables.';\n",
       "          element.innerHTML = '';\n",
       "          dataTable['output_type'] = 'display_data';\n",
       "          await google.colab.output.renderOutput(dataTable, element);\n",
       "          const docLink = document.createElement('div');\n",
       "          docLink.innerHTML = docLinkHtml;\n",
       "          element.appendChild(docLink);\n",
       "        }\n",
       "      </script>\n",
       "    </div>\n",
       "  </div>\n",
       "  "
      ],
      "text/plain": [
       "                      image_id  category_id                              bbox\n",
       "id                                                                           \n",
       "12550146  15526467552013451612         1034   [102.49, 181.12, 137.08, 97.92]\n",
       "9764874   12017556593931260822          318      [284.8, 297.6, 252.8, 192.0]\n",
       "13729810  17157301591781950087          318  [431.36, 277.25, 471.04, 314.39]\n",
       "13959212  17494374403857745282         1034   [195.76, 237.59, 363.09, 85.33]\n",
       "12910638  15979914912395313233          131   [263.04, 368.64, 182.4, 238.72]\n",
       "...                        ...          ...                               ...\n",
       "8388588   10275527987851298058         1034      [284.16, 0.0, 739.2, 682.36]\n",
       "1277936    1379797987660853607          318       [470.4, 49.6, 262.4, 211.2]\n",
       "12943352  16021391580251818415          588      [105.6, 203.2, 916.8, 563.2]\n",
       "5439486    6578021406860915270          318    [363.52, 55.68, 205.44, 134.4]\n",
       "9502719   11684018977583795263          588   [524.16, 255.0, 365.44, 411.98]\n",
       "\n",
       "[5594 rows x 3 columns]"
      ]
     },
     "execution_count": 18,
     "metadata": {},
     "output_type": "execute_result"
    },
    {
     "name": "stdout",
     "output_type": "stream",
     "text": [
      "time: 12.1 ms (started: 2022-06-07 23:31:59 +00:00)\n"
     ]
    }
   ],
   "source": [
    "anns"
   ]
  },
  {
   "cell_type": "code",
   "execution_count": 19,
   "id": "255e3ed1",
   "metadata": {
    "ExecuteTime": {
     "end_time": "2022-06-07T16:31:03.618634Z",
     "start_time": "2022-06-07T16:30:57.553363Z"
    },
    "colab": {
     "base_uri": "https://localhost:8080/"
    },
    "id": "255e3ed1",
    "outputId": "09d3f2c1-5131-4bcc-8b8e-a920d6b20bf9"
   },
   "outputs": [
    {
     "name": "stdout",
     "output_type": "stream",
     "text": [
      "time: 10.6 s (started: 2022-06-07 23:31:59 +00:00)\n"
     ]
    }
   ],
   "source": [
    "def build_yolo_dataset(is_train, imgs):\n",
    "    if is_train:\n",
    "        t = 'train'\n",
    "    else:\n",
    "        t = 'valid'\n",
    "    \n",
    "    yolo_img_dir = f'{p_dir}/data/yolo2/{t}/images'\n",
    "    yolo_label_dir = f'{p_dir}/data/yolo2/{t}/labels'\n",
    "    src_img_dir = p_dir + '/data/origin/images'\n",
    "    \n",
    "    os.makedirs(yolo_img_dir, exist_ok=True)\n",
    "    os.makedirs(yolo_label_dir, exist_ok=True)\n",
    "    \n",
    "    for img in imgs.reset_index().to_numpy():\n",
    "        #print(img)\n",
    "        img_id = img[0]\n",
    "        img_name = img[1].split('.')[0]\n",
    "        img_w = img[2]\n",
    "        img_h = img[3]\n",
    "        #print(img_name)\n",
    "        \n",
    "        # 复制 yolo 图像\n",
    "        sh.copyfile(f'{src_img_dir}/{img_name}.jpg', f'{yolo_img_dir}/{img_name}.jpg')\n",
    "        #print(f'{yolo_img_dir}/{img_name}.jpg')\n",
    "        \n",
    "        # 生成 yolo 标签\n",
    "        with open(f'{yolo_label_dir}/{img_name}.txt', 'w') as f:\n",
    "            for ann in anns.reset_index().to_numpy():\n",
    "                ann_img_id = ann[1]\n",
    "                ann_cid = ann[2]\n",
    "                ann_bbox = ann[3]\n",
    "                if img_id == ann_img_id:\n",
    "                    #print(ann)\n",
    "                    bbox = cc2yolo_bbox(img_w, img_h, ann_bbox)\n",
    "                    f.write('{} {} {} {} {}\\n'.format(cat_id_map[ann_cid], bbox[0], bbox[1], bbox[2], bbox[3]))\n",
    "        #print(f'{yolo_label_dir}/{img_name}.txt')\n",
    "\n",
    "build_yolo_dataset(is_train=True, imgs=train_imgs)\n",
    "build_yolo_dataset(is_train=False, imgs=valid_imgs)"
   ]
  },
  {
   "cell_type": "code",
   "execution_count": null,
   "id": "a0250177",
   "metadata": {
    "ExecuteTime": {
     "end_time": "2022-06-07T16:54:22.109597Z",
     "start_time": "2022-06-07T16:54:21.900287Z"
    },
    "id": "a0250177"
   },
   "outputs": [],
   "source": [
    "def repeat_belt():\n",
    "    yolo_img_dir = f'{p_dir}/data/yolo2/train/images'\n",
    "    yolo_label_dir = f'{p_dir}/data/yolo2/train/labels'\n",
    "    src_img_dir = p_dir + '/data/origin/images'\n",
    "    \n",
    "    repeat = 430\n",
    "    for i in range(repeat):\n",
    "        suffix = int(i / len(belt_imgs)) + 1\n",
    "        img_id = belt_imgs[i % len(belt_imgs)]\n",
    "        img = train_imgs.loc[img_id]\n",
    "        img_name = img.file_name.split('.')[0]\n",
    "        new_name = f'{img_name}_{suffix}'\n",
    "        sh.copyfile(f'{src_img_dir}/{img_name}.jpg', f'{yolo_img_dir}/{new_name}.jpg')\n",
    "        #print(f'{yolo_img_dir}/{new_name}.jpg')\n",
    "        \n",
    "        # 复制 yolo 标签\n",
    "        sh.copyfile(f'{yolo_label_dir}/{img_name}.txt', f'{yolo_label_dir}/{new_name}.txt')\n",
    "        #print(f'{yolo_img_dir}/{new_name}.txt')\n",
    "        \n",
    "repeat_belt()"
   ]
  },
  {
   "cell_type": "code",
   "execution_count": 21,
   "id": "f3a2b63a",
   "metadata": {
    "ExecuteTime": {
     "end_time": "2022-06-07T16:56:34.755897Z",
     "start_time": "2022-06-07T16:56:34.752763Z"
    },
    "colab": {
     "base_uri": "https://localhost:8080/"
    },
    "id": "f3a2b63a",
    "outputId": "c7331fa3-f8bb-43f3-a98a-f1384692779e"
   },
   "outputs": [
    {
     "name": "stdout",
     "output_type": "stream",
     "text": [
      "time: 7.3 ms (started: 2022-06-07 23:32:11 +00:00)\n"
     ]
    }
   ],
   "source": [
    "# Create  yaml file\n",
    "data_yaml = dict(\n",
    "    train = f'{p_dir}/data/yolo2/train/images',\n",
    "    val = f'{p_dir}/data/yolo2/valid/images',\n",
    "    nc = 5,\n",
    "    names = ['belt', 'sunglasses', 'boot', 'cowboy_hat', 'jacket']\n",
    ")\n",
    "\n",
    "yolo_data_yaml = p_dir + '/data/yolo2/data.yaml'\n",
    "with open(yolo_data_yaml, 'w') as f:\n",
    "    yaml.dump(data_yaml, f, default_flow_style=True)"
   ]
  },
  {
   "cell_type": "code",
   "execution_count": 22,
   "id": "2b6e1565",
   "metadata": {
    "ExecuteTime": {
     "start_time": "2022-06-07T16:57:03.905Z"
    },
    "colab": {
     "base_uri": "https://localhost:8080/"
    },
    "id": "2b6e1565",
    "outputId": "25d9f360-046a-415a-8916-f9e7ef2b9428"
   },
   "outputs": [
    {
     "name": "stdout",
     "output_type": "stream",
     "text": [
      "\u001b[34m\u001b[1mtrain: \u001b[0mweights=/content/history/bln_epochs20/weights/last.pt, cfg=, data=/content/data/yolo2/data.yaml, hyp=yolov5/data/hyps/hyp.scratch-low.yaml, epochs=20, batch_size=32, imgsz=640, rect=False, resume=False, nosave=False, noval=False, noautoanchor=False, noplots=False, evolve=None, bucket=, cache=None, image_weights=False, device=, multi_scale=False, single_cls=False, optimizer=SGD, sync_bn=False, workers=8, project=yolov5/runs/train, name=/content/log/bln_epochs40, exist_ok=False, quad=False, cos_lr=False, label_smoothing=0.0, patience=100, freeze=[0], save_period=-1, local_rank=-1, entity=None, upload_dataset=False, bbox_interval=-1, artifact_alias=latest\n",
      "\u001b[34m\u001b[1mgithub: \u001b[0mup to date with https://github.com/garrisonz/yolov5 ✅\n",
      "YOLOv5 🚀 v6.1-238-g0f07795 Python-3.7.13 torch-1.11.0+cu113 CUDA:0 (Tesla P100-PCIE-16GB, 16281MiB)\n",
      "\n",
      "\u001b[34m\u001b[1mhyperparameters: \u001b[0mlr0=0.01, lrf=0.01, momentum=0.937, weight_decay=0.0005, warmup_epochs=3.0, warmup_momentum=0.8, warmup_bias_lr=0.1, box=0.05, cls=0.5, cls_pw=1.0, obj=1.0, obj_pw=1.0, iou_t=0.2, anchor_t=4.0, fl_gamma=0.0, hsv_h=0.015, hsv_s=0.7, hsv_v=0.4, degrees=0.0, translate=0.1, scale=0.5, shear=0.0, perspective=0.0, flipud=0.0, fliplr=0.5, mosaic=1.0, mixup=0.0, copy_paste=0.0\n",
      "\u001b[34m\u001b[1mWeights & Biases: \u001b[0mrun 'pip install wandb' to automatically track and visualize YOLOv5 🚀 runs (RECOMMENDED)\n",
      "\u001b[34m\u001b[1mTensorBoard: \u001b[0mStart with 'tensorboard --logdir /content/log', view at http://localhost:6006/\n",
      "Downloading https://ultralytics.com/assets/Arial.ttf to /root/.config/Ultralytics/Arial.ttf...\n",
      "100% 755k/755k [00:00<00:00, 34.3MB/s]\n",
      "\n",
      "                 from  n    params  module                                  arguments                     \n",
      "  0                -1  1      3520  models.common.Conv                      [3, 32, 6, 2, 2]              \n",
      "  1                -1  1     18560  models.common.Conv                      [32, 64, 3, 2]                \n",
      "  2                -1  1     18816  models.common.C3                        [64, 64, 1]                   \n",
      "  3                -1  1     73984  models.common.Conv                      [64, 128, 3, 2]               \n",
      "  4                -1  2    115712  models.common.C3                        [128, 128, 2]                 \n",
      "  5                -1  1    295424  models.common.Conv                      [128, 256, 3, 2]              \n",
      "  6                -1  3    625152  models.common.C3                        [256, 256, 3]                 \n",
      "  7                -1  1   1180672  models.common.Conv                      [256, 512, 3, 2]              \n",
      "  8                -1  1   1182720  models.common.C3                        [512, 512, 1]                 \n",
      "  9                -1  1    656896  models.common.SPPF                      [512, 512, 5]                 \n",
      " 10                -1  1    131584  models.common.Conv                      [512, 256, 1, 1]              \n",
      " 11                -1  1         0  torch.nn.modules.upsampling.Upsample    [None, 2, 'nearest']          \n",
      " 12           [-1, 6]  1         0  models.common.Concat                    [1]                           \n",
      " 13                -1  1    361984  models.common.C3                        [512, 256, 1, False]          \n",
      " 14                -1  1     33024  models.common.Conv                      [256, 128, 1, 1]              \n",
      " 15                -1  1         0  torch.nn.modules.upsampling.Upsample    [None, 2, 'nearest']          \n",
      " 16           [-1, 4]  1         0  models.common.Concat                    [1]                           \n",
      " 17                -1  1     90880  models.common.C3                        [256, 128, 1, False]          \n",
      " 18                -1  1    147712  models.common.Conv                      [128, 128, 3, 2]              \n",
      " 19          [-1, 14]  1         0  models.common.Concat                    [1]                           \n",
      " 20                -1  1    296448  models.common.C3                        [256, 256, 1, False]          \n",
      " 21                -1  1    590336  models.common.Conv                      [256, 256, 3, 2]              \n",
      " 22          [-1, 10]  1         0  models.common.Concat                    [1]                           \n",
      " 23                -1  1   1182720  models.common.C3                        [512, 512, 1, False]          \n",
      " 24      [17, 20, 23]  1     26970  models.yolo.Detect                      [5, [[10, 13, 16, 30, 33, 23], [30, 61, 62, 45, 59, 119], [116, 90, 156, 198, 373, 326]], [128, 256, 512]]\n",
      "Model summary: 270 layers, 7033114 parameters, 7033114 gradients, 15.9 GFLOPs\n",
      "\n",
      "Transferred 349/349 items from /content/history/bln_epochs20/weights/last.pt\n",
      "\u001b[34m\u001b[1mAMP: \u001b[0mchecks passed ✅\n",
      "Scaled weight_decay = 0.0005\n",
      "\u001b[34m\u001b[1moptimizer:\u001b[0m SGD with parameter groups 57 weight (no decay), 60 weight, 60 bias\n",
      "\u001b[34m\u001b[1malbumentations: \u001b[0mversion 1.0.3 required by YOLOv5, but version 0.1.12 is currently installed\n",
      "\u001b[34m\u001b[1mtrain: \u001b[0mScanning '/content/data/yolo2/train/labels' images and labels...2879 found, 0 missing, 0 empty, 0 corrupt: 100% 2879/2879 [00:00<00:00, 5588.98it/s]\n",
      "\u001b[34m\u001b[1mtrain: \u001b[0mNew cache created: /content/data/yolo2/train/labels.cache\n",
      "\u001b[34m\u001b[1mval: \u001b[0mScanning '/content/data/yolo2/valid/labels' images and labels...613 found, 0 missing, 0 empty, 0 corrupt: 100% 613/613 [00:00<00:00, 1987.00it/s]\n",
      "\u001b[34m\u001b[1mval: \u001b[0mNew cache created: /content/data/yolo2/valid/labels.cache\n",
      "Plotting labels to /content/log/bln_epochs40/labels.jpg... \n",
      "\n",
      "\u001b[34m\u001b[1mAutoAnchor: \u001b[0m4.24 anchors/target, 0.998 Best Possible Recall (BPR). Current anchors are a good fit to dataset ✅\n",
      "Image sizes 640 train, 640 val\n",
      "Using 4 dataloader workers\n",
      "Logging results to \u001b[1m/content/log/bln_epochs40\u001b[0m\n",
      "Starting training for 20 epochs...\n",
      "\n",
      "     Epoch   gpu_mem       box       obj       cls    labels  img_size\n",
      "      0/19     6.99G   0.03006   0.01686  0.001085       115       640: 100% 90/90 [01:29<00:00,  1.00it/s]\n",
      "               Class     Images     Labels          P          R     mAP@.5 mAP@.5:.95: 100% 10/10 [00:08<00:00,  1.13it/s]\n",
      "                 all        613       1130      0.785      0.528      0.554      0.312\n",
      "\n",
      "     Epoch   gpu_mem       box       obj       cls    labels  img_size\n",
      "      1/19     8.51G   0.03345   0.01703  0.001278       115       640: 100% 90/90 [01:25<00:00,  1.05it/s]\n",
      "               Class     Images     Labels          P          R     mAP@.5 mAP@.5:.95: 100% 10/10 [00:08<00:00,  1.20it/s]\n",
      "                 all        613       1130      0.788       0.53      0.545      0.294\n",
      "\n",
      "     Epoch   gpu_mem       box       obj       cls    labels  img_size\n",
      "      2/19     8.51G   0.03716   0.01734  0.001794       111       640: 100% 90/90 [01:28<00:00,  1.01it/s]\n",
      "               Class     Images     Labels          P          R     mAP@.5 mAP@.5:.95: 100% 10/10 [00:08<00:00,  1.20it/s]\n",
      "                 all        613       1130      0.583      0.463        0.5      0.241\n",
      "\n",
      "     Epoch   gpu_mem       box       obj       cls    labels  img_size\n",
      "      3/19     8.51G    0.0373   0.01824  0.002169        85       640: 100% 90/90 [01:27<00:00,  1.03it/s]\n",
      "               Class     Images     Labels          P          R     mAP@.5 mAP@.5:.95: 100% 10/10 [00:07<00:00,  1.25it/s]\n",
      "                 all        613       1128      0.572      0.479      0.511      0.253\n",
      "\n",
      "     Epoch   gpu_mem       box       obj       cls    labels  img_size\n",
      "      4/19     8.51G   0.03688   0.01841  0.001917        98       640: 100% 90/90 [01:27<00:00,  1.03it/s]\n",
      "               Class     Images     Labels          P          R     mAP@.5 mAP@.5:.95: 100% 10/10 [00:08<00:00,  1.14it/s]\n",
      "                 all        613       1130      0.508      0.501      0.486      0.247\n",
      "\n",
      "     Epoch   gpu_mem       box       obj       cls    labels  img_size\n",
      "      5/19     8.51G    0.0361   0.01853  0.001807        98       640: 100% 90/90 [01:29<00:00,  1.00it/s]\n",
      "               Class     Images     Labels          P          R     mAP@.5 mAP@.5:.95: 100% 10/10 [00:09<00:00,  1.09it/s]\n",
      "                 all        613       1130      0.616      0.552      0.529      0.273\n",
      "\n",
      "     Epoch   gpu_mem       box       obj       cls    labels  img_size\n",
      "      6/19     8.51G   0.03518   0.01805  0.002176        87       640: 100% 90/90 [01:28<00:00,  1.02it/s]\n",
      "               Class     Images     Labels          P          R     mAP@.5 mAP@.5:.95: 100% 10/10 [00:08<00:00,  1.22it/s]\n",
      "                 all        613       1129      0.555      0.484      0.497      0.253\n",
      "\n",
      "     Epoch   gpu_mem       box       obj       cls    labels  img_size\n",
      "      7/19     8.51G   0.03438   0.01765  0.001785       117       640: 100% 90/90 [01:27<00:00,  1.03it/s]\n",
      "               Class     Images     Labels          P          R     mAP@.5 mAP@.5:.95: 100% 10/10 [00:08<00:00,  1.19it/s]\n",
      "                 all        613       1130      0.537      0.509      0.495      0.265\n",
      "\n",
      "     Epoch   gpu_mem       box       obj       cls    labels  img_size\n",
      "      8/19     8.51G   0.03334   0.01712  0.001427        91       640: 100% 90/90 [01:26<00:00,  1.04it/s]\n",
      "               Class     Images     Labels          P          R     mAP@.5 mAP@.5:.95: 100% 10/10 [00:08<00:00,  1.15it/s]\n",
      "                 all        613       1130      0.777        0.5      0.507      0.273\n",
      "\n",
      "     Epoch   gpu_mem       box       obj       cls    labels  img_size\n",
      "      9/19     8.51G   0.03253   0.01718   0.00131        99       640: 100% 90/90 [01:27<00:00,  1.03it/s]\n",
      "               Class     Images     Labels          P          R     mAP@.5 mAP@.5:.95: 100% 10/10 [00:08<00:00,  1.22it/s]\n",
      "                 all        613       1130      0.768      0.505      0.515      0.271\n",
      "\n",
      "     Epoch   gpu_mem       box       obj       cls    labels  img_size\n",
      "     10/19     8.51G   0.03161   0.01608  0.001223       122       640: 100% 90/90 [01:26<00:00,  1.04it/s]\n",
      "               Class     Images     Labels          P          R     mAP@.5 mAP@.5:.95: 100% 10/10 [00:08<00:00,  1.14it/s]\n",
      "                 all        613       1130      0.733      0.492      0.501      0.271\n",
      "\n",
      "     Epoch   gpu_mem       box       obj       cls    labels  img_size\n",
      "     11/19     8.51G   0.03112   0.01655  0.001092       118       640: 100% 90/90 [01:27<00:00,  1.03it/s]\n",
      "               Class     Images     Labels          P          R     mAP@.5 mAP@.5:.95: 100% 10/10 [00:07<00:00,  1.25it/s]\n",
      "                 all        613       1130       0.58      0.509       0.52      0.283\n",
      "\n",
      "     Epoch   gpu_mem       box       obj       cls    labels  img_size\n",
      "     12/19     8.51G   0.03064    0.0165  0.001057        92       640: 100% 90/90 [01:26<00:00,  1.04it/s]\n",
      "               Class     Images     Labels          P          R     mAP@.5 mAP@.5:.95: 100% 10/10 [00:08<00:00,  1.14it/s]\n",
      "                 all        613       1130      0.772      0.473      0.526      0.291\n",
      "\n",
      "     Epoch   gpu_mem       box       obj       cls    labels  img_size\n",
      "     13/19     8.51G   0.02963   0.01571 0.0008871        83       640: 100% 90/90 [01:27<00:00,  1.02it/s]\n",
      "               Class     Images     Labels          P          R     mAP@.5 mAP@.5:.95: 100% 10/10 [00:08<00:00,  1.20it/s]\n",
      "                 all        613       1130      0.663      0.557      0.555      0.305\n",
      "\n",
      "     Epoch   gpu_mem       box       obj       cls    labels  img_size\n",
      "     14/19     8.51G   0.02946   0.01564 0.0009974       119       640: 100% 90/90 [01:26<00:00,  1.04it/s]\n",
      "               Class     Images     Labels          P          R     mAP@.5 mAP@.5:.95: 100% 10/10 [00:08<00:00,  1.23it/s]\n",
      "                 all        613       1130      0.802      0.521      0.551      0.312\n",
      "\n",
      "     Epoch   gpu_mem       box       obj       cls    labels  img_size\n",
      "     15/19     8.51G   0.02879   0.01518 0.0009022        95       640: 100% 90/90 [01:27<00:00,  1.03it/s]\n",
      "               Class     Images     Labels          P          R     mAP@.5 mAP@.5:.95: 100% 10/10 [00:08<00:00,  1.17it/s]\n",
      "                 all        613       1130      0.811      0.498      0.537        0.3\n",
      "\n",
      "     Epoch   gpu_mem       box       obj       cls    labels  img_size\n",
      "     16/19     8.51G   0.02799   0.01497 0.0008878       119       640: 100% 90/90 [01:25<00:00,  1.05it/s]\n",
      "               Class     Images     Labels          P          R     mAP@.5 mAP@.5:.95: 100% 10/10 [00:08<00:00,  1.18it/s]\n",
      "                 all        613       1130      0.785      0.511      0.539      0.306\n",
      "\n",
      "     Epoch   gpu_mem       box       obj       cls    labels  img_size\n",
      "     17/19     8.51G   0.02766   0.01491 0.0007851       118       640: 100% 90/90 [01:27<00:00,  1.03it/s]\n",
      "               Class     Images     Labels          P          R     mAP@.5 mAP@.5:.95: 100% 10/10 [00:08<00:00,  1.17it/s]\n",
      "                 all        613       1130      0.807      0.495      0.567      0.315\n",
      "\n",
      "     Epoch   gpu_mem       box       obj       cls    labels  img_size\n",
      "     18/19     8.51G   0.02711   0.01478 0.0008182        99       640: 100% 90/90 [01:26<00:00,  1.04it/s]\n",
      "               Class     Images     Labels          P          R     mAP@.5 mAP@.5:.95: 100% 10/10 [00:08<00:00,  1.24it/s]\n",
      "                 all        613       1130      0.799      0.509      0.546      0.313\n",
      "\n",
      "     Epoch   gpu_mem       box       obj       cls    labels  img_size\n",
      "     19/19     8.51G   0.02716   0.01507 0.0007848        92       640: 100% 90/90 [01:27<00:00,  1.03it/s]\n",
      "               Class     Images     Labels          P          R     mAP@.5 mAP@.5:.95: 100% 10/10 [00:08<00:00,  1.21it/s]\n",
      "                 all        613       1130       0.57      0.528      0.539      0.309\n",
      "\n",
      "20 epochs completed in 0.538 hours.\n",
      "Optimizer stripped from /content/log/bln_epochs40/weights/last.pt, 14.4MB\n",
      "Optimizer stripped from /content/log/bln_epochs40/weights/best.pt, 14.4MB\n",
      "\n",
      "Validating /content/log/bln_epochs40/weights/best.pt...\n",
      "Fusing layers... \n",
      "Model summary: 213 layers, 7023610 parameters, 0 gradients, 15.8 GFLOPs\n",
      "               Class     Images     Labels          P          R     mAP@.5 mAP@.5:.95: 100% 10/10 [00:07<00:00,  1.33it/s]\n",
      "                 all        613       1130      0.807      0.495      0.567      0.315\n",
      "                belt        613          6          1          0      0.165     0.0552\n",
      "          sunglasses        613        503      0.835      0.724      0.773       0.44\n",
      "                boot        613        107      0.739      0.327      0.376      0.207\n",
      "          cowboy_hat        613         88      0.678      0.773      0.762      0.426\n",
      "              jacket        613        426      0.783      0.653       0.76      0.447\n",
      "Results saved to \u001b[1m/content/log/bln_epochs40\u001b[0m\n",
      "time: 33min 7s (started: 2022-06-07 23:32:11 +00:00)\n"
     ]
    }
   ],
   "source": [
    "if colab:\n",
    "    train_py = p_dir + '/yolov5/train.py'\n",
    "else:\n",
    "    train_py = '~/w/github/yolov5/train.py'\n",
    "epochs = 20\n",
    "total_epochs += epochs \n",
    "out_dir = p_dir + f'/log/bln_epochs{total_epochs}'\n",
    "\n",
    "os.environ['WANDB_DISABLED'] = 'true'\n",
    "!python {train_py} --img 640 --batch 32 --epochs {epochs} --data {yolo_data_yaml}   \\\n",
    "                        --weights {basic_pt} --name {out_dir}"
   ]
  },
  {
   "cell_type": "code",
   "execution_count": 25,
   "id": "j_kAkObUSixW",
   "metadata": {
    "colab": {
     "base_uri": "https://localhost:8080/"
    },
    "id": "j_kAkObUSixW",
    "outputId": "b2472cc7-ea20-4653-b2f9-969ec9e6706c"
   },
   "outputs": [
    {
     "name": "stdout",
     "output_type": "stream",
     "text": [
      "/content/log\n",
      "  adding: bln_epochs40/ (stored 0%)\n",
      "  adding: bln_epochs40/train_batch2.jpg (deflated 3%)\n",
      "  adding: bln_epochs40/R_curve.png (deflated 8%)\n",
      "  adding: bln_epochs40/labels_correlogram.jpg (deflated 26%)\n",
      "  adding: bln_epochs40/F1_curve.png (deflated 8%)\n",
      "  adding: bln_epochs40/val_batch0_pred.jpg (deflated 10%)\n",
      "  adding: bln_epochs40/results.csv (deflated 82%)\n",
      "  adding: bln_epochs40/results.png (deflated 6%)\n",
      "  adding: bln_epochs40/val_batch0_labels.jpg (deflated 10%)\n",
      "  adding: bln_epochs40/opt.yaml (deflated 46%)\n",
      "  adding: bln_epochs40/PR_curve.png (deflated 8%)\n",
      "  adding: bln_epochs40/labels.jpg (deflated 15%)\n",
      "  adding: bln_epochs40/P_curve.png (deflated 7%)\n",
      "  adding: bln_epochs40/val_batch2_pred.jpg (deflated 5%)\n",
      "  adding: bln_epochs40/train_batch0.jpg (deflated 2%)\n",
      "  adding: bln_epochs40/train_batch1.jpg (deflated 3%)\n",
      "  adding: bln_epochs40/weights/ (stored 0%)\n",
      "  adding: bln_epochs40/weights/best.pt (deflated 9%)\n",
      "  adding: bln_epochs40/weights/last.pt (deflated 9%)\n",
      "  adding: bln_epochs40/val_batch2_labels.jpg (deflated 5%)\n",
      "  adding: bln_epochs40/hyp.yaml (deflated 45%)\n",
      "  adding: bln_epochs40/confusion_matrix.png (deflated 23%)\n",
      "  adding: bln_epochs40/events.out.tfevents.1654644736.730b130e79db.521.0 (deflated 25%)\n",
      "  adding: bln_epochs40/val_batch1_labels.jpg (deflated 6%)\n",
      "  adding: bln_epochs40/val_batch1_pred.jpg (deflated 6%)\n",
      "/content\n",
      "time: 1.75 s (started: 2022-06-08 00:06:25 +00:00)\n"
     ]
    }
   ],
   "source": [
    "if colab:\n",
    "    %cd /content/log\n",
    "    !zip -r bln_epochs{total_epochs}.zip bln_epochs{total_epochs}\n",
    "    %cd /content\n",
    "    !mv /content/log/bln_epochs{total_epochs}.zip /content/drive/MyDrive/colab/detect_outfits/log/"
   ]
  }
 ],
 "metadata": {
  "colab": {
   "collapsed_sections": [],
   "name": "detect_outfits_train.ipynb",
   "provenance": []
  },
  "kernelspec": {
   "display_name": "Python 3 (ipykernel)",
   "language": "python",
   "name": "python3"
  },
  "language_info": {
   "codemirror_mode": {
    "name": "ipython",
    "version": 3
   },
   "file_extension": ".py",
   "mimetype": "text/x-python",
   "name": "python",
   "nbconvert_exporter": "python",
   "pygments_lexer": "ipython3",
   "version": "3.8.12"
  }
 },
 "nbformat": 4,
 "nbformat_minor": 5
}
